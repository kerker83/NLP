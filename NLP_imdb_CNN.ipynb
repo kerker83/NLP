{
  "cells": [
    {
      "cell_type": "markdown",
      "metadata": {
        "id": "view-in-github",
        "colab_type": "text"
      },
      "source": [
        "<a href=\"https://colab.research.google.com/github/kerker83/NLP/blob/main/NLP_imdb_CNN.ipynb\" target=\"_parent\"><img src=\"https://colab.research.google.com/assets/colab-badge.svg\" alt=\"Open In Colab\"/></a>"
      ]
    },
    {
      "cell_type": "markdown",
      "source": [
        "## Import"
      ],
      "metadata": {
        "id": "zS4LkvN-eFl1"
      }
    },
    {
      "cell_type": "code",
      "execution_count": 2,
      "metadata": {
        "id": "8hN0K8AvELv3"
      },
      "outputs": [],
      "source": [
        "from tensorflow.keras.datasets import imdb\n",
        "from tensorflow.keras.preprocessing.sequence import pad_sequences\n",
        "from tensorflow.keras.models import Sequential\n",
        "from tensorflow.keras.layers import Dense, Flatten, Dropout\n",
        "from tensorflow.keras.layers import Embedding\n",
        "from tensorflow.keras.callbacks import ModelCheckpoint\n",
        "from tensorflow.keras.layers import Conv1D, GlobalMaxPooling1D\n",
        "from tensorflow.keras.layers import SpatialDropout1D\n",
        "import os\n",
        "from sklearn.metrics import roc_auc_score, roc_curve\n",
        "import pandas as pd\n",
        "import matplotlib.pyplot as plt\n",
        "%matplotlib inline"
      ]
    },
    {
      "cell_type": "code",
      "execution_count": 3,
      "metadata": {
        "colab": {
          "base_uri": "https://localhost:8080/"
        },
        "id": "jEIvDSX8GjYc",
        "outputId": "40595097-b055-4a2e-ee89-8a4141f3e1e8"
      },
      "outputs": [
        {
          "output_type": "stream",
          "name": "stdout",
          "text": [
            "Mounted at /content/gdrive\n"
          ]
        }
      ],
      "source": [
        "# login google drive\n",
        "from google.colab import drive\n",
        "drive.mount('/content/gdrive')"
      ]
    },
    {
      "cell_type": "markdown",
      "source": [
        "## Data Preprocessing"
      ],
      "metadata": {
        "id": "YshnH6ceD-wC"
      }
    },
    {
      "cell_type": "markdown",
      "source": [
        "### Hyperparameters"
      ],
      "metadata": {
        "id": "I5thbu4XJ2se"
      }
    },
    {
      "cell_type": "code",
      "execution_count": 4,
      "metadata": {
        "id": "ufue7DUHFRtb"
      },
      "outputs": [],
      "source": [
        "# output directory name\n",
        "output_dir = '/content/gdrive/MyDrive/Colab Notebooks'\n",
        "\n",
        "# training\n",
        "epochs = 4\n",
        "batch_size = 128\n",
        "\n",
        "# word vector space\n",
        "n_dim = 64\n",
        "n_words_to_skip = 50\n",
        "n_unique_words = 5000\n",
        "max_review_length = 400\n",
        "pad_type = 'pre'\n",
        "trunc_type = 'pre'\n",
        "drop_embed = 0.2\n",
        "\n",
        "# convolution layer\n",
        "n_conv = 256\n",
        "k_conv = 3\n",
        "\n",
        "# dense layer\n",
        "n_dense = 256\n",
        "dropout = 0.2"
      ]
    },
    {
      "cell_type": "markdown",
      "source": [
        "### Load Data"
      ],
      "metadata": {
        "id": "t1zKtoXdKBoD"
      }
    },
    {
      "cell_type": "code",
      "execution_count": 5,
      "metadata": {
        "id": "uLJu7y4yHBha",
        "colab": {
          "base_uri": "https://localhost:8080/"
        },
        "outputId": "2c0630f3-2cc0-4199-8a35-b69e92e50d6f"
      },
      "outputs": [
        {
          "output_type": "stream",
          "name": "stdout",
          "text": [
            "Downloading data from https://storage.googleapis.com/tensorflow/tf-keras-datasets/imdb.npz\n",
            "17464789/17464789 [==============================] - 0s 0us/step\n"
          ]
        }
      ],
      "source": [
        "# remove the stop words\n",
        "(x_train, y_train), (x_test, y_test) = imdb.load_data(skip_top=n_words_to_skip, num_words=n_unique_words)\n",
        "\n",
        "# set the length of an article the same by padding or truncating\n",
        "x_train = pad_sequences(x_train, maxlen=max_review_length, padding=pad_type, truncating=trunc_type, value=0)\n",
        "x_test = pad_sequences(x_test, maxlen=max_review_length, padding=pad_type, truncating=trunc_type, value=0)"
      ]
    },
    {
      "cell_type": "markdown",
      "source": [
        "## Model"
      ],
      "metadata": {
        "id": "nPOORN-HRnIK"
      }
    },
    {
      "cell_type": "code",
      "execution_count": 6,
      "metadata": {
        "id": "YzyCksQcMUbh"
      },
      "outputs": [],
      "source": [
        "model = Sequential()\n",
        "\n",
        "# this is for DNN\n",
        "# model.add(Embedding(n_unique_words, n_dim, input_length=max_review_length))\n",
        "# model.add(Flatten())\n",
        "# model.add(Dense(n_dense, activation='relu'))\n",
        "# model.add(Dropout(dropout))\n",
        "# model.add(Dense(1, activation='sigmoid'))\n",
        "\n",
        "model.add(Embedding(n_unique_words, n_dim, input_length=max_review_length))\n",
        "model.add(SpatialDropout1D(drop_embed))\n",
        "\n",
        "model.add(Conv1D(n_conv, k_conv, activation='relu'))\n",
        "model.add(GlobalMaxPooling1D())\n",
        "\n",
        "model.add(Dense(n_dense, activation='relu'))\n",
        "model.add(Dropout(dropout))\n",
        "\n",
        "model.add(Dense(1, activation='sigmoid'))"
      ]
    },
    {
      "cell_type": "code",
      "execution_count": 7,
      "metadata": {
        "colab": {
          "base_uri": "https://localhost:8080/"
        },
        "id": "KaVBaEalNNzu",
        "outputId": "079893b7-0ba9-4d76-b53c-de9fbf3c12bb"
      },
      "outputs": [
        {
          "output_type": "stream",
          "name": "stdout",
          "text": [
            "Model: \"sequential\"\n",
            "_________________________________________________________________\n",
            " Layer (type)                Output Shape              Param #   \n",
            "=================================================================\n",
            " embedding (Embedding)       (None, 400, 64)           320000    \n",
            "                                                                 \n",
            " spatial_dropout1d (SpatialD  (None, 400, 64)          0         \n",
            " ropout1D)                                                       \n",
            "                                                                 \n",
            " conv1d (Conv1D)             (None, 398, 256)          49408     \n",
            "                                                                 \n",
            " global_max_pooling1d (Globa  (None, 256)              0         \n",
            " lMaxPooling1D)                                                  \n",
            "                                                                 \n",
            " dense (Dense)               (None, 256)               65792     \n",
            "                                                                 \n",
            " dropout (Dropout)           (None, 256)               0         \n",
            "                                                                 \n",
            " dense_1 (Dense)             (None, 1)                 257       \n",
            "                                                                 \n",
            "=================================================================\n",
            "Total params: 435,457\n",
            "Trainable params: 435,457\n",
            "Non-trainable params: 0\n",
            "_________________________________________________________________\n"
          ]
        }
      ],
      "source": [
        "model.summary()"
      ]
    },
    {
      "cell_type": "code",
      "execution_count": 8,
      "metadata": {
        "id": "RvLmvwXHNo3Q"
      },
      "outputs": [],
      "source": [
        "model.compile(loss='binary_crossentropy', optimizer='adam', metrics=['accuracy'])\n",
        "\n",
        "modelcheckpoint = ModelCheckpoint(filepath=output_dir+\"/weights.{epoch:02d}.hdf5\")\n",
        "\n",
        "if not os.path.exists(output_dir):\n",
        "  os.makedirs(output_dir)"
      ]
    },
    {
      "cell_type": "code",
      "execution_count": 9,
      "metadata": {
        "colab": {
          "base_uri": "https://localhost:8080/"
        },
        "id": "gjq44_TgO7GH",
        "outputId": "0cc624ae-a2f8-4188-8742-516e59e3ee06"
      },
      "outputs": [
        {
          "output_type": "stream",
          "name": "stdout",
          "text": [
            "Epoch 1/4\n",
            "196/196 [==============================] - 83s 414ms/step - loss: 0.4774 - accuracy: 0.7546 - val_loss: 0.3137 - val_accuracy: 0.8637\n",
            "Epoch 2/4\n",
            "196/196 [==============================] - 79s 405ms/step - loss: 0.2632 - accuracy: 0.8912 - val_loss: 0.2965 - val_accuracy: 0.8730\n",
            "Epoch 3/4\n",
            "196/196 [==============================] - 79s 406ms/step - loss: 0.1906 - accuracy: 0.9267 - val_loss: 0.2988 - val_accuracy: 0.8760\n",
            "Epoch 4/4\n",
            "196/196 [==============================] - 80s 410ms/step - loss: 0.1259 - accuracy: 0.9572 - val_loss: 0.3291 - val_accuracy: 0.8772\n"
          ]
        },
        {
          "output_type": "execute_result",
          "data": {
            "text/plain": [
              "<keras.callbacks.History at 0x7f36643750a0>"
            ]
          },
          "metadata": {},
          "execution_count": 9
        }
      ],
      "source": [
        "model.fit(x_train, y_train, batch_size=batch_size, epochs=epochs, verbose=1,\n",
        "          validation_data=(x_test, y_test), callbacks=[modelcheckpoint])"
      ]
    },
    {
      "cell_type": "markdown",
      "source": [
        "## Model Evaluating"
      ],
      "metadata": {
        "id": "2f91UQW9Tp-b"
      }
    },
    {
      "cell_type": "code",
      "execution_count": 10,
      "metadata": {
        "id": "R9mM3DloQp9S",
        "colab": {
          "base_uri": "https://localhost:8080/"
        },
        "outputId": "3b529a8b-6147-4b2e-b803-683e483834d1"
      },
      "outputs": [
        {
          "output_type": "stream",
          "name": "stdout",
          "text": [
            "782/782 [==============================] - 17s 22ms/step\n"
          ]
        }
      ],
      "source": [
        "model.load_weights(output_dir+\"/weights.03.hdf5\")\n",
        "y_hat = model.predict(x_test)"
      ]
    },
    {
      "cell_type": "code",
      "execution_count": 11,
      "metadata": {
        "colab": {
          "base_uri": "https://localhost:8080/",
          "height": 265
        },
        "id": "Vi1D_PWrRgDI",
        "outputId": "fdfc16fd-d056-466f-9714-a5df753c5984"
      },
      "outputs": [
        {
          "output_type": "display_data",
          "data": {
            "text/plain": [
              "<Figure size 432x288 with 1 Axes>"
            ],
            "image/png": "[encoded data removed]"
          },
          "metadata": {
            "needs_background": "light"
          }
        }
      ],
      "source": [
        "plt.hist(y_hat)\n",
        "_ = plt.axvline(x=0.5, color='orange')"
      ]
    },
    {
      "cell_type": "markdown",
      "source": [
        "### ROC AUC"
      ],
      "metadata": {
        "id": "MtkjGBnnULOu"
      }
    },
    {
      "cell_type": "code",
      "source": [
        "def plot_roc_curve(fper, tper):\n",
        "    plt.plot(fper, tper, color='red', label='ROC')\n",
        "    plt.plot([0, 1], [0, 1], color='green', linestyle='--')\n",
        "    plt.xlabel('False Positive Rate')\n",
        "    plt.ylabel('True Positive Rate')\n",
        "    plt.title('Receiver Operating Characteristic Curve')\n",
        "    plt.legend()\n",
        "    plt.show()\n",
        "\n",
        "fper, tper, _ = roc_curve(y_test, y_hat)\n",
        "plot_roc_curve(fper, tper)"
      ],
      "metadata": {
        "id": "vOs3PKxo2VgB",
        "outputId": "1a167f36-7025-4139-bed9-98faf1eeafc0",
        "colab": {
          "base_uri": "https://localhost:8080/",
          "height": 295
        }
      },
      "execution_count": 12,
      "outputs": [
        {
          "output_type": "display_data",
          "data": {
            "text/plain": [
              "<Figure size 432x288 with 1 Axes>"
            ],
            "image/png": "[encoded data removed]"
          },
          "metadata": {
            "needs_background": "light"
          }
        }
      ]
    },
    {
      "cell_type": "code",
      "execution_count": 13,
      "metadata": {
        "id": "HgGGG6qaT5rL",
        "colab": {
          "base_uri": "https://localhost:8080/",
          "height": 36
        },
        "outputId": "25cb2991-cab6-4a17-9ee9-4d33687db991"
      },
      "outputs": [
        {
          "output_type": "execute_result",
          "data": {
            "text/plain": [
              "'95.08'"
            ],
            "application/vnd.google.colaboratory.intrinsic+json": {
              "type": "string"
            }
          },
          "metadata": {},
          "execution_count": 13
        }
      ],
      "source": [
        "pct_auc = roc_auc_score(y_test, y_hat)*100.0\n",
        "\"{:0.2f}\".format(pct_auc)"
      ]
    }
  ],
  "metadata": {
    "colab": {
      "provenance": [],
      "authorship_tag": "ABX9TyOVXQdjXuFIGV0eLPnInAIN",
      "include_colab_link": true
    },
    "kernelspec": {
      "display_name": "Python 3",
      "name": "python3"
    },
    "language_info": {
      "name": "python"
    }
  },
  "nbformat": 4,
  "nbformat_minor": 0
}